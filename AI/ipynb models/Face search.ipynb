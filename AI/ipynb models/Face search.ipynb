{
 "nbformat": 4,
 "nbformat_minor": 0,
 "metadata": {
  "colab": {
   "provenance": []
  },
  "kernelspec": {
   "name": "python3",
   "display_name": "Python 3"
  },
  "language_info": {
   "name": "python"
  },
  "widgets": {
   "application/vnd.jupyter.widget-state+json": {
    "638f640a5e844ea6894b4447640ed5f4": {
     "model_module": "@jupyter-widgets/controls",
     "model_name": "HBoxModel",
     "model_module_version": "1.5.0",
     "state": {
      "_dom_classes": [],
      "_model_module": "@jupyter-widgets/controls",
      "_model_module_version": "1.5.0",
      "_model_name": "HBoxModel",
      "_view_count": null,
      "_view_module": "@jupyter-widgets/controls",
      "_view_module_version": "1.5.0",
      "_view_name": "HBoxView",
      "box_style": "",
      "children": [
       "IPY_MODEL_640326146a594a1a9e963dfc8ad5827d",
       "IPY_MODEL_816302c6e6cf40448e0c8fcd58d1c98b",
       "IPY_MODEL_642d94c467a34315a7c35534ea0c1da0"
      ],
      "layout": "IPY_MODEL_ed5d15133f574a36b5300ce87ec00efb"
     }
    },
    "640326146a594a1a9e963dfc8ad5827d": {
     "model_module": "@jupyter-widgets/controls",
     "model_name": "HTMLModel",
     "model_module_version": "1.5.0",
     "state": {
      "_dom_classes": [],
      "_model_module": "@jupyter-widgets/controls",
      "_model_module_version": "1.5.0",
      "_model_name": "HTMLModel",
      "_view_count": null,
      "_view_module": "@jupyter-widgets/controls",
      "_view_module_version": "1.5.0",
      "_view_name": "HTMLView",
      "description": "",
      "description_tooltip": null,
      "layout": "IPY_MODEL_4dc110ad22d246f8bdf218a773c1d104",
      "placeholder": "​",
      "style": "IPY_MODEL_4de06ed2ea0743049a6b0e55abedd66e",
      "value": "100%"
     }
    },
    "816302c6e6cf40448e0c8fcd58d1c98b": {
     "model_module": "@jupyter-widgets/controls",
     "model_name": "FloatProgressModel",
     "model_module_version": "1.5.0",
     "state": {
      "_dom_classes": [],
      "_model_module": "@jupyter-widgets/controls",
      "_model_module_version": "1.5.0",
      "_model_name": "FloatProgressModel",
      "_view_count": null,
      "_view_module": "@jupyter-widgets/controls",
      "_view_module_version": "1.5.0",
      "_view_name": "ProgressView",
      "bar_style": "success",
      "description": "",
      "description_tooltip": null,
      "layout": "IPY_MODEL_0577c1d426b14bd99abdddca0e19afe1",
      "max": 111898327,
      "min": 0,
      "orientation": "horizontal",
      "style": "IPY_MODEL_05ca56325e87434db6985cc6eeb4c280",
      "value": 111898327
     }
    },
    "642d94c467a34315a7c35534ea0c1da0": {
     "model_module": "@jupyter-widgets/controls",
     "model_name": "HTMLModel",
     "model_module_version": "1.5.0",
     "state": {
      "_dom_classes": [],
      "_model_module": "@jupyter-widgets/controls",
      "_model_module_version": "1.5.0",
      "_model_name": "HTMLModel",
      "_view_count": null,
      "_view_module": "@jupyter-widgets/controls",
      "_view_module_version": "1.5.0",
      "_view_name": "HTMLView",
      "description": "",
      "description_tooltip": null,
      "layout": "IPY_MODEL_77bfa33b3e6c41a1b37edb544f06bad4",
      "placeholder": "​",
      "style": "IPY_MODEL_3617d8cb1ad34f84aee9543f4e660eb9",
      "value": " 107M/107M [00:01&lt;00:00, 111MB/s]"
     }
    },
    "ed5d15133f574a36b5300ce87ec00efb": {
     "model_module": "@jupyter-widgets/base",
     "model_name": "LayoutModel",
     "model_module_version": "1.2.0",
     "state": {
      "_model_module": "@jupyter-widgets/base",
      "_model_module_version": "1.2.0",
      "_model_name": "LayoutModel",
      "_view_count": null,
      "_view_module": "@jupyter-widgets/base",
      "_view_module_version": "1.2.0",
      "_view_name": "LayoutView",
      "align_content": null,
      "align_items": null,
      "align_self": null,
      "border": null,
      "bottom": null,
      "display": null,
      "flex": null,
      "flex_flow": null,
      "grid_area": null,
      "grid_auto_columns": null,
      "grid_auto_flow": null,
      "grid_auto_rows": null,
      "grid_column": null,
      "grid_gap": null,
      "grid_row": null,
      "grid_template_areas": null,
      "grid_template_columns": null,
      "grid_template_rows": null,
      "height": null,
      "justify_content": null,
      "justify_items": null,
      "left": null,
      "margin": null,
      "max_height": null,
      "max_width": null,
      "min_height": null,
      "min_width": null,
      "object_fit": null,
      "object_position": null,
      "order": null,
      "overflow": null,
      "overflow_x": null,
      "overflow_y": null,
      "padding": null,
      "right": null,
      "top": null,
      "visibility": null,
      "width": null
     }
    },
    "4dc110ad22d246f8bdf218a773c1d104": {
     "model_module": "@jupyter-widgets/base",
     "model_name": "LayoutModel",
     "model_module_version": "1.2.0",
     "state": {
      "_model_module": "@jupyter-widgets/base",
      "_model_module_version": "1.2.0",
      "_model_name": "LayoutModel",
      "_view_count": null,
      "_view_module": "@jupyter-widgets/base",
      "_view_module_version": "1.2.0",
      "_view_name": "LayoutView",
      "align_content": null,
      "align_items": null,
      "align_self": null,
      "border": null,
      "bottom": null,
      "display": null,
      "flex": null,
      "flex_flow": null,
      "grid_area": null,
      "grid_auto_columns": null,
      "grid_auto_flow": null,
      "grid_auto_rows": null,
      "grid_column": null,
      "grid_gap": null,
      "grid_row": null,
      "grid_template_areas": null,
      "grid_template_columns": null,
      "grid_template_rows": null,
      "height": null,
      "justify_content": null,
      "justify_items": null,
      "left": null,
      "margin": null,
      "max_height": null,
      "max_width": null,
      "min_height": null,
      "min_width": null,
      "object_fit": null,
      "object_position": null,
      "order": null,
      "overflow": null,
      "overflow_x": null,
      "overflow_y": null,
      "padding": null,
      "right": null,
      "top": null,
      "visibility": null,
      "width": null
     }
    },
    "4de06ed2ea0743049a6b0e55abedd66e": {
     "model_module": "@jupyter-widgets/controls",
     "model_name": "DescriptionStyleModel",
     "model_module_version": "1.5.0",
     "state": {
      "_model_module": "@jupyter-widgets/controls",
      "_model_module_version": "1.5.0",
      "_model_name": "DescriptionStyleModel",
      "_view_count": null,
      "_view_module": "@jupyter-widgets/base",
      "_view_module_version": "1.2.0",
      "_view_name": "StyleView",
      "description_width": ""
     }
    },
    "0577c1d426b14bd99abdddca0e19afe1": {
     "model_module": "@jupyter-widgets/base",
     "model_name": "LayoutModel",
     "model_module_version": "1.2.0",
     "state": {
      "_model_module": "@jupyter-widgets/base",
      "_model_module_version": "1.2.0",
      "_model_name": "LayoutModel",
      "_view_count": null,
      "_view_module": "@jupyter-widgets/base",
      "_view_module_version": "1.2.0",
      "_view_name": "LayoutView",
      "align_content": null,
      "align_items": null,
      "align_self": null,
      "border": null,
      "bottom": null,
      "display": null,
      "flex": null,
      "flex_flow": null,
      "grid_area": null,
      "grid_auto_columns": null,
      "grid_auto_flow": null,
      "grid_auto_rows": null,
      "grid_column": null,
      "grid_gap": null,
      "grid_row": null,
      "grid_template_areas": null,
      "grid_template_columns": null,
      "grid_template_rows": null,
      "height": null,
      "justify_content": null,
      "justify_items": null,
      "left": null,
      "margin": null,
      "max_height": null,
      "max_width": null,
      "min_height": null,
      "min_width": null,
      "object_fit": null,
      "object_position": null,
      "order": null,
      "overflow": null,
      "overflow_x": null,
      "overflow_y": null,
      "padding": null,
      "right": null,
      "top": null,
      "visibility": null,
      "width": null
     }
    },
    "05ca56325e87434db6985cc6eeb4c280": {
     "model_module": "@jupyter-widgets/controls",
     "model_name": "ProgressStyleModel",
     "model_module_version": "1.5.0",
     "state": {
      "_model_module": "@jupyter-widgets/controls",
      "_model_module_version": "1.5.0",
      "_model_name": "ProgressStyleModel",
      "_view_count": null,
      "_view_module": "@jupyter-widgets/base",
      "_view_module_version": "1.2.0",
      "_view_name": "StyleView",
      "bar_color": null,
      "description_width": ""
     }
    },
    "77bfa33b3e6c41a1b37edb544f06bad4": {
     "model_module": "@jupyter-widgets/base",
     "model_name": "LayoutModel",
     "model_module_version": "1.2.0",
     "state": {
      "_model_module": "@jupyter-widgets/base",
      "_model_module_version": "1.2.0",
      "_model_name": "LayoutModel",
      "_view_count": null,
      "_view_module": "@jupyter-widgets/base",
      "_view_module_version": "1.2.0",
      "_view_name": "LayoutView",
      "align_content": null,
      "align_items": null,
      "align_self": null,
      "border": null,
      "bottom": null,
      "display": null,
      "flex": null,
      "flex_flow": null,
      "grid_area": null,
      "grid_auto_columns": null,
      "grid_auto_flow": null,
      "grid_auto_rows": null,
      "grid_column": null,
      "grid_gap": null,
      "grid_row": null,
      "grid_template_areas": null,
      "grid_template_columns": null,
      "grid_template_rows": null,
      "height": null,
      "justify_content": null,
      "justify_items": null,
      "left": null,
      "margin": null,
      "max_height": null,
      "max_width": null,
      "min_height": null,
      "min_width": null,
      "object_fit": null,
      "object_position": null,
      "order": null,
      "overflow": null,
      "overflow_x": null,
      "overflow_y": null,
      "padding": null,
      "right": null,
      "top": null,
      "visibility": null,
      "width": null
     }
    },
    "3617d8cb1ad34f84aee9543f4e660eb9": {
     "model_module": "@jupyter-widgets/controls",
     "model_name": "DescriptionStyleModel",
     "model_module_version": "1.5.0",
     "state": {
      "_model_module": "@jupyter-widgets/controls",
      "_model_module_version": "1.5.0",
      "_model_name": "DescriptionStyleModel",
      "_view_count": null,
      "_view_module": "@jupyter-widgets/base",
      "_view_module_version": "1.2.0",
      "_view_name": "StyleView",
      "description_width": ""
     }
    }
   }
  }
 },
 "cells": [
  {
   "cell_type": "code",
   "execution_count": 1,
   "metadata": {
    "colab": {
     "base_uri": "https://localhost:8080/"
    },
    "id": "jFNOeg0isvDc",
    "outputId": "a2b7c4bd-c8ce-4fe2-e253-98bf3d43992d"
   },
   "outputs": [
    {
     "output_type": "stream",
     "name": "stdout",
     "text": [
      "Requirement already satisfied: facenet-pytorch in /usr/local/lib/python3.12/dist-packages (2.6.0)\n",
      "Requirement already satisfied: numpy<2.0.0,>=1.24.0 in /usr/local/lib/python3.12/dist-packages (from facenet-pytorch) (1.26.4)\n",
      "Requirement already satisfied: Pillow<10.3.0,>=10.2.0 in /usr/local/lib/python3.12/dist-packages (from facenet-pytorch) (10.2.0)\n",
      "Requirement already satisfied: requests<3.0.0,>=2.0.0 in /usr/local/lib/python3.12/dist-packages (from facenet-pytorch) (2.32.4)\n",
      "Requirement already satisfied: torch<2.3.0,>=2.2.0 in /usr/local/lib/python3.12/dist-packages (from facenet-pytorch) (2.2.2)\n",
      "Requirement already satisfied: torchvision<0.18.0,>=0.17.0 in /usr/local/lib/python3.12/dist-packages (from facenet-pytorch) (0.17.2)\n",
      "Requirement already satisfied: tqdm<5.0.0,>=4.0.0 in /usr/local/lib/python3.12/dist-packages (from facenet-pytorch) (4.67.1)\n",
      "Requirement already satisfied: charset_normalizer<4,>=2 in /usr/local/lib/python3.12/dist-packages (from requests<3.0.0,>=2.0.0->facenet-pytorch) (3.4.3)\n",
      "Requirement already satisfied: idna<4,>=2.5 in /usr/local/lib/python3.12/dist-packages (from requests<3.0.0,>=2.0.0->facenet-pytorch) (3.10)\n",
      "Requirement already satisfied: urllib3<3,>=1.21.1 in /usr/local/lib/python3.12/dist-packages (from requests<3.0.0,>=2.0.0->facenet-pytorch) (2.5.0)\n",
      "Requirement already satisfied: certifi>=2017.4.17 in /usr/local/lib/python3.12/dist-packages (from requests<3.0.0,>=2.0.0->facenet-pytorch) (2025.8.3)\n",
      "Requirement already satisfied: filelock in /usr/local/lib/python3.12/dist-packages (from torch<2.3.0,>=2.2.0->facenet-pytorch) (3.19.1)\n",
      "Requirement already satisfied: typing-extensions>=4.8.0 in /usr/local/lib/python3.12/dist-packages (from torch<2.3.0,>=2.2.0->facenet-pytorch) (4.15.0)\n",
      "Requirement already satisfied: sympy in /usr/local/lib/python3.12/dist-packages (from torch<2.3.0,>=2.2.0->facenet-pytorch) (1.13.3)\n",
      "Requirement already satisfied: networkx in /usr/local/lib/python3.12/dist-packages (from torch<2.3.0,>=2.2.0->facenet-pytorch) (3.5)\n",
      "Requirement already satisfied: jinja2 in /usr/local/lib/python3.12/dist-packages (from torch<2.3.0,>=2.2.0->facenet-pytorch) (3.1.6)\n",
      "Requirement already satisfied: fsspec in /usr/local/lib/python3.12/dist-packages (from torch<2.3.0,>=2.2.0->facenet-pytorch) (2025.3.0)\n",
      "Requirement already satisfied: nvidia-cuda-nvrtc-cu12==12.1.105 in /usr/local/lib/python3.12/dist-packages (from torch<2.3.0,>=2.2.0->facenet-pytorch) (12.1.105)\n",
      "Requirement already satisfied: nvidia-cuda-runtime-cu12==12.1.105 in /usr/local/lib/python3.12/dist-packages (from torch<2.3.0,>=2.2.0->facenet-pytorch) (12.1.105)\n",
      "Requirement already satisfied: nvidia-cuda-cupti-cu12==12.1.105 in /usr/local/lib/python3.12/dist-packages (from torch<2.3.0,>=2.2.0->facenet-pytorch) (12.1.105)\n",
      "Requirement already satisfied: nvidia-cudnn-cu12==8.9.2.26 in /usr/local/lib/python3.12/dist-packages (from torch<2.3.0,>=2.2.0->facenet-pytorch) (8.9.2.26)\n",
      "Requirement already satisfied: nvidia-cublas-cu12==12.1.3.1 in /usr/local/lib/python3.12/dist-packages (from torch<2.3.0,>=2.2.0->facenet-pytorch) (12.1.3.1)\n",
      "Requirement already satisfied: nvidia-cufft-cu12==11.0.2.54 in /usr/local/lib/python3.12/dist-packages (from torch<2.3.0,>=2.2.0->facenet-pytorch) (11.0.2.54)\n",
      "Requirement already satisfied: nvidia-curand-cu12==10.3.2.106 in /usr/local/lib/python3.12/dist-packages (from torch<2.3.0,>=2.2.0->facenet-pytorch) (10.3.2.106)\n",
      "Requirement already satisfied: nvidia-cusolver-cu12==11.4.5.107 in /usr/local/lib/python3.12/dist-packages (from torch<2.3.0,>=2.2.0->facenet-pytorch) (11.4.5.107)\n",
      "Requirement already satisfied: nvidia-cusparse-cu12==12.1.0.106 in /usr/local/lib/python3.12/dist-packages (from torch<2.3.0,>=2.2.0->facenet-pytorch) (12.1.0.106)\n",
      "Requirement already satisfied: nvidia-nccl-cu12==2.19.3 in /usr/local/lib/python3.12/dist-packages (from torch<2.3.0,>=2.2.0->facenet-pytorch) (2.19.3)\n",
      "Requirement already satisfied: nvidia-nvtx-cu12==12.1.105 in /usr/local/lib/python3.12/dist-packages (from torch<2.3.0,>=2.2.0->facenet-pytorch) (12.1.105)\n",
      "Requirement already satisfied: nvidia-nvjitlink-cu12 in /usr/local/lib/python3.12/dist-packages (from nvidia-cusolver-cu12==11.4.5.107->torch<2.3.0,>=2.2.0->facenet-pytorch) (12.6.85)\n",
      "Requirement already satisfied: MarkupSafe>=2.0 in /usr/local/lib/python3.12/dist-packages (from jinja2->torch<2.3.0,>=2.2.0->facenet-pytorch) (3.0.3)\n",
      "Requirement already satisfied: mpmath<1.4,>=1.1.0 in /usr/local/lib/python3.12/dist-packages (from sympy->torch<2.3.0,>=2.2.0->facenet-pytorch) (1.3.0)\n"
     ]
    }
   ],
   "source": [
    "!pip install facenet-pytorch\n",
    "\n"
   ]
  },
  {
   "cell_type": "code",
   "source": [
    "import torch\n",
    "from facenet_pytorch import InceptionResnetV1\n",
    "from PIL import Image\n",
    "from torchvision import transforms\n",
    "from google.colab import files\n"
   ],
   "metadata": {
    "id": "yRVlho53sz9R"
   },
   "execution_count": 2,
   "outputs": []
  },
  {
   "cell_type": "code",
   "source": [
    "# Load the pretrained model\n",
    "model = InceptionResnetV1(pretrained='vggface2').eval()\n"
   ],
   "metadata": {
    "colab": {
     "base_uri": "https://localhost:8080/",
     "height": 49,
     "referenced_widgets": [
      "638f640a5e844ea6894b4447640ed5f4",
      "640326146a594a1a9e963dfc8ad5827d",
      "816302c6e6cf40448e0c8fcd58d1c98b",
      "642d94c467a34315a7c35534ea0c1da0",
      "ed5d15133f574a36b5300ce87ec00efb",
      "4dc110ad22d246f8bdf218a773c1d104",
      "4de06ed2ea0743049a6b0e55abedd66e",
      "0577c1d426b14bd99abdddca0e19afe1",
      "05ca56325e87434db6985cc6eeb4c280",
      "77bfa33b3e6c41a1b37edb544f06bad4",
      "3617d8cb1ad34f84aee9543f4e660eb9"
     ]
    },
    "id": "ih8--s8rs4GQ",
    "outputId": "7a1666d8-82d4-45db-f23a-ac318fd79b62"
   },
   "execution_count": 3,
   "outputs": [
    {
     "output_type": "display_data",
     "data": {
      "text/plain": [
       "  0%|          | 0.00/107M [00:00<?, ?B/s]"
      ],
      "application/vnd.jupyter.widget-view+json": {
       "version_major": 2,
       "version_minor": 0,
       "model_id": "638f640a5e844ea6894b4447640ed5f4"
      }
     },
     "metadata": {}
    }
   ]
  },
  {
   "cell_type": "code",
   "source": [
    "uploaded = files.upload()  # Select your image file\n",
    "img_path = list(uploaded.keys())[0]\n"
   ],
   "metadata": {
    "colab": {
     "base_uri": "https://localhost:8080/",
     "height": 73
    },
    "id": "xv1mrd3Ss7L9",
    "outputId": "14675366-a6d3-41e6-a5cf-5e17af33cd6a"
   },
   "execution_count": 18,
   "outputs": [
    {
     "output_type": "display_data",
     "data": {
      "text/plain": [
       "<IPython.core.display.HTML object>"
      ],
      "text/html": [
       "\n",
       "     <input type=\"file\" id=\"files-4463ede0-0615-4470-bb5d-3af09ae37ab9\" name=\"files[]\" multiple disabled\n",
       "        style=\"border:none\" />\n",
       "     <output id=\"result-4463ede0-0615-4470-bb5d-3af09ae37ab9\">\n",
       "      Upload widget is only available when the cell has been executed in the\n",
       "      current browser session. Please rerun this cell to enable.\n",
       "      </output>\n",
       "      <script>// Copyright 2017 Google LLC\n",
       "//\n",
       "// Licensed under the Apache License, Version 2.0 (the \"License\");\n",
       "// you may not use this file except in compliance with the License.\n",
       "// You may obtain a copy of the License at\n",
       "//\n",
       "//      http://www.apache.org/licenses/LICENSE-2.0\n",
       "//\n",
       "// Unless required by applicable law or agreed to in writing, software\n",
       "// distributed under the License is distributed on an \"AS IS\" BASIS,\n",
       "// WITHOUT WARRANTIES OR CONDITIONS OF ANY KIND, either express or implied.\n",
       "// See the License for the specific language governing permissions and\n",
       "// limitations under the License.\n",
       "\n",
       "/**\n",
       " * @fileoverview Helpers for google.colab Python module.\n",
       " */\n",
       "(function(scope) {\n",
       "function span(text, styleAttributes = {}) {\n",
       "  const element = document.createElement('span');\n",
       "  element.textContent = text;\n",
       "  for (const key of Object.keys(styleAttributes)) {\n",
       "    element.style[key] = styleAttributes[key];\n",
       "  }\n",
       "  return element;\n",
       "}\n",
       "\n",
       "// Max number of bytes which will be uploaded at a time.\n",
       "const MAX_PAYLOAD_SIZE = 100 * 1024;\n",
       "\n",
       "function _uploadFiles(inputId, outputId) {\n",
       "  const steps = uploadFilesStep(inputId, outputId);\n",
       "  const outputElement = document.getElementById(outputId);\n",
       "  // Cache steps on the outputElement to make it available for the next call\n",
       "  // to uploadFilesContinue from Python.\n",
       "  outputElement.steps = steps;\n",
       "\n",
       "  return _uploadFilesContinue(outputId);\n",
       "}\n",
       "\n",
       "// This is roughly an async generator (not supported in the browser yet),\n",
       "// where there are multiple asynchronous steps and the Python side is going\n",
       "// to poll for completion of each step.\n",
       "// This uses a Promise to block the python side on completion of each step,\n",
       "// then passes the result of the previous step as the input to the next step.\n",
       "function _uploadFilesContinue(outputId) {\n",
       "  const outputElement = document.getElementById(outputId);\n",
       "  const steps = outputElement.steps;\n",
       "\n",
       "  const next = steps.next(outputElement.lastPromiseValue);\n",
       "  return Promise.resolve(next.value.promise).then((value) => {\n",
       "    // Cache the last promise value to make it available to the next\n",
       "    // step of the generator.\n",
       "    outputElement.lastPromiseValue = value;\n",
       "    return next.value.response;\n",
       "  });\n",
       "}\n",
       "\n",
       "/**\n",
       " * Generator function which is called between each async step of the upload\n",
       " * process.\n",
       " * @param {string} inputId Element ID of the input file picker element.\n",
       " * @param {string} outputId Element ID of the output display.\n",
       " * @return {!Iterable<!Object>} Iterable of next steps.\n",
       " */\n",
       "function* uploadFilesStep(inputId, outputId) {\n",
       "  const inputElement = document.getElementById(inputId);\n",
       "  inputElement.disabled = false;\n",
       "\n",
       "  const outputElement = document.getElementById(outputId);\n",
       "  outputElement.innerHTML = '';\n",
       "\n",
       "  const pickedPromise = new Promise((resolve) => {\n",
       "    inputElement.addEventListener('change', (e) => {\n",
       "      resolve(e.target.files);\n",
       "    });\n",
       "  });\n",
       "\n",
       "  const cancel = document.createElement('button');\n",
       "  inputElement.parentElement.appendChild(cancel);\n",
       "  cancel.textContent = 'Cancel upload';\n",
       "  const cancelPromise = new Promise((resolve) => {\n",
       "    cancel.onclick = () => {\n",
       "      resolve(null);\n",
       "    };\n",
       "  });\n",
       "\n",
       "  // Wait for the user to pick the files.\n",
       "  const files = yield {\n",
       "    promise: Promise.race([pickedPromise, cancelPromise]),\n",
       "    response: {\n",
       "      action: 'starting',\n",
       "    }\n",
       "  };\n",
       "\n",
       "  cancel.remove();\n",
       "\n",
       "  // Disable the input element since further picks are not allowed.\n",
       "  inputElement.disabled = true;\n",
       "\n",
       "  if (!files) {\n",
       "    return {\n",
       "      response: {\n",
       "        action: 'complete',\n",
       "      }\n",
       "    };\n",
       "  }\n",
       "\n",
       "  for (const file of files) {\n",
       "    const li = document.createElement('li');\n",
       "    li.append(span(file.name, {fontWeight: 'bold'}));\n",
       "    li.append(span(\n",
       "        `(${file.type || 'n/a'}) - ${file.size} bytes, ` +\n",
       "        `last modified: ${\n",
       "            file.lastModifiedDate ? file.lastModifiedDate.toLocaleDateString() :\n",
       "                                    'n/a'} - `));\n",
       "    const percent = span('0% done');\n",
       "    li.appendChild(percent);\n",
       "\n",
       "    outputElement.appendChild(li);\n",
       "\n",
       "    const fileDataPromise = new Promise((resolve) => {\n",
       "      const reader = new FileReader();\n",
       "      reader.onload = (e) => {\n",
       "        resolve(e.target.result);\n",
       "      };\n",
       "      reader.readAsArrayBuffer(file);\n",
       "    });\n",
       "    // Wait for the data to be ready.\n",
       "    let fileData = yield {\n",
       "      promise: fileDataPromise,\n",
       "      response: {\n",
       "        action: 'continue',\n",
       "      }\n",
       "    };\n",
       "\n",
       "    // Use a chunked sending to avoid message size limits. See b/62115660.\n",
       "    let position = 0;\n",
       "    do {\n",
       "      const length = Math.min(fileData.byteLength - position, MAX_PAYLOAD_SIZE);\n",
       "      const chunk = new Uint8Array(fileData, position, length);\n",
       "      position += length;\n",
       "\n",
       "      const base64 = btoa(String.fromCharCode.apply(null, chunk));\n",
       "      yield {\n",
       "        response: {\n",
       "          action: 'append',\n",
       "          file: file.name,\n",
       "          data: base64,\n",
       "        },\n",
       "      };\n",
       "\n",
       "      let percentDone = fileData.byteLength === 0 ?\n",
       "          100 :\n",
       "          Math.round((position / fileData.byteLength) * 100);\n",
       "      percent.textContent = `${percentDone}% done`;\n",
       "\n",
       "    } while (position < fileData.byteLength);\n",
       "  }\n",
       "\n",
       "  // All done.\n",
       "  yield {\n",
       "    response: {\n",
       "      action: 'complete',\n",
       "    }\n",
       "  };\n",
       "}\n",
       "\n",
       "scope.google = scope.google || {};\n",
       "scope.google.colab = scope.google.colab || {};\n",
       "scope.google.colab._files = {\n",
       "  _uploadFiles,\n",
       "  _uploadFilesContinue,\n",
       "};\n",
       "})(self);\n",
       "</script> "
      ]
     },
     "metadata": {}
    },
    {
     "output_type": "stream",
     "name": "stdout",
     "text": [
      "Saving F100666.jpg to F100666 (1).jpg\n"
     ]
    }
   ]
  },
  {
   "cell_type": "code",
   "source": [
    "transform = transforms.Compose([\n",
    "    transforms.Resize((160, 160)),\n",
    "    transforms.ToTensor(),\n",
    "    transforms.Normalize(mean=[0.5, 0.5, 0.5], std=[0.5, 0.5, 0.5])\n",
    "])\n",
    "\n",
    "img = Image.open(img_path).convert('RGB')\n",
    "img_tensor = transform(img).unsqueeze(0)  # Add batch dimension\n"
   ],
   "metadata": {
    "id": "gmEOR4Jrs9s3"
   },
   "execution_count": 19,
   "outputs": []
  },
  {
   "cell_type": "code",
   "source": [
    "with torch.no_grad():\n",
    "    embedding = model(img_tensor)\n",
    "\n",
    "\n"
   ],
   "metadata": {
    "colab": {
     "base_uri": "https://localhost:8080/"
    },
    "id": "LxOeGDyOs_3o",
    "outputId": "8679aa15-540a-477a-860f-adaf96aafb73"
   },
   "execution_count": 20,
   "outputs": [
    {
     "output_type": "stream",
     "name": "stdout",
     "text": [
      "Embedding shape: torch.Size([1, 512])\n",
      "Embedding vector: tensor([[-4.5447e-02,  3.0283e-02,  2.2116e-02, -4.8703e-02,  4.4408e-02,\n",
      "         -4.1419e-02,  2.8092e-02, -1.7078e-02,  4.8241e-02,  3.7053e-02,\n",
      "          3.1917e-02,  3.3305e-03, -2.8682e-02, -6.3701e-02,  8.2612e-03,\n",
      "          6.5953e-03,  1.3197e-02, -6.5251e-02, -5.6304e-02, -2.1831e-02,\n",
      "         -1.0040e-02,  3.2393e-02,  3.5782e-02,  3.4780e-02, -5.7846e-02,\n",
      "          4.6968e-02,  2.9808e-02, -6.9357e-02, -1.5334e-02, -2.1324e-02,\n",
      "         -4.7402e-02,  8.5069e-02,  1.0670e-02,  2.7910e-02, -4.7694e-03,\n",
      "         -3.7018e-04,  5.3910e-02, -5.4024e-02, -2.5230e-02,  1.4724e-03,\n",
      "          8.2834e-02, -3.3628e-02, -3.6524e-02,  6.8842e-02, -3.0748e-02,\n",
      "         -2.4508e-02,  2.5608e-02,  7.5551e-02, -3.0495e-02,  9.7641e-03,\n",
      "          3.4775e-03,  9.5186e-02,  7.8868e-03, -5.6067e-02, -1.3755e-04,\n",
      "          2.7887e-02, -4.4612e-02, -4.1188e-04, -3.6495e-02,  1.6856e-02,\n",
      "         -4.1302e-03,  1.9159e-02, -4.9776e-02, -8.6979e-02,  4.1144e-02,\n",
      "         -5.1723e-02, -1.0944e-01,  9.6258e-02, -1.1049e-02,  1.2505e-02,\n",
      "          9.2369e-02,  5.5376e-02, -5.2276e-02, -2.1899e-03,  9.6675e-02,\n",
      "          1.4965e-02, -1.9637e-02,  1.7620e-02, -9.2036e-02, -2.1170e-03,\n",
      "         -5.2998e-02, -1.0175e-02, -6.3014e-02, -2.9521e-02, -2.1606e-02,\n",
      "         -9.5578e-02,  6.3195e-02,  2.7820e-02,  4.9683e-02, -1.3659e-03,\n",
      "         -7.5242e-03, -1.8845e-02, -6.0351e-03,  4.6035e-02, -3.7379e-02,\n",
      "         -6.0500e-02, -8.5939e-03,  2.0248e-02, -6.4889e-02, -4.2196e-03,\n",
      "          5.5802e-03,  1.6229e-02, -3.8768e-02, -3.2589e-02,  9.2641e-04,\n",
      "          3.1072e-02,  3.0012e-02,  4.7912e-02,  3.4505e-02, -1.8154e-02,\n",
      "          1.0695e-01, -4.0685e-02, -7.1214e-02,  5.0922e-02,  1.7962e-02,\n",
      "          6.5241e-02,  2.0210e-02, -5.9895e-03,  2.4179e-02, -1.4595e-03,\n",
      "          7.9423e-02,  1.6029e-02, -1.3895e-02,  3.1607e-02, -6.6050e-04,\n",
      "          2.1108e-02,  7.5488e-03,  3.1683e-02,  5.5689e-02, -3.1432e-02,\n",
      "         -2.5474e-02, -5.5913e-02,  3.6273e-02, -2.3292e-02, -5.1483e-02,\n",
      "         -3.8342e-02, -5.5216e-02, -4.3958e-02, -4.8184e-02,  1.7137e-03,\n",
      "         -4.0987e-02,  5.5953e-03, -3.4866e-02,  1.8133e-02,  1.8245e-02,\n",
      "          1.5881e-02,  2.1276e-02, -1.7034e-02,  5.0870e-02, -4.7605e-02,\n",
      "         -3.8093e-02, -6.2737e-03,  1.1365e-02, -5.0583e-02,  1.6478e-02,\n",
      "          1.1777e-02,  9.1301e-03,  3.8817e-02,  6.8049e-02,  1.2636e-02,\n",
      "          3.6338e-02, -3.2912e-02, -7.2114e-02,  6.9168e-03,  4.3910e-02,\n",
      "         -2.5526e-02,  5.8218e-02,  7.4259e-02, -1.5310e-02, -2.1583e-02,\n",
      "          7.7328e-02, -2.9836e-02, -7.4576e-02, -2.3375e-02, -1.9363e-02,\n",
      "          4.1132e-02, -2.3973e-02, -6.4376e-04, -1.1777e-02,  3.4672e-02,\n",
      "          4.6128e-02,  5.0657e-03,  8.5642e-03,  3.1892e-03,  5.6469e-02,\n",
      "          8.3021e-04, -7.8981e-02,  3.5279e-03, -8.8792e-02,  3.0128e-03,\n",
      "          1.5053e-02, -8.5767e-02, -1.6178e-02, -6.2066e-02,  4.2136e-02,\n",
      "         -9.9634e-02,  4.1981e-02, -2.2631e-02, -1.0242e-02,  4.4222e-02,\n",
      "          1.8972e-03, -9.8151e-02, -7.0009e-04, -2.8725e-02, -4.9208e-02,\n",
      "         -3.1572e-02,  4.0766e-02, -9.8789e-02, -1.8319e-02,  2.3646e-02,\n",
      "          2.5215e-02, -2.2929e-02, -7.6350e-03, -1.0097e-02,  6.0962e-03,\n",
      "          3.0754e-02,  3.7908e-02, -7.5718e-03,  5.0367e-02, -7.2813e-02,\n",
      "          3.1415e-03, -1.7949e-02, -9.0719e-03, -6.2949e-02,  2.9543e-02,\n",
      "         -4.2620e-04, -5.0129e-02,  5.5253e-02,  8.1073e-02,  5.2325e-02,\n",
      "         -9.9197e-02, -5.4855e-02, -3.3320e-03,  1.7095e-02,  3.4973e-02,\n",
      "          7.7162e-02, -3.9998e-02, -1.4426e-02, -8.0705e-03,  1.8426e-02,\n",
      "          2.8332e-02, -3.9688e-02,  1.5575e-02, -2.8319e-02,  1.4760e-01,\n",
      "          1.9959e-02,  2.4270e-02, -7.9042e-03,  8.4615e-02, -1.1257e-01,\n",
      "          7.4778e-02,  4.7400e-02, -5.6276e-03, -4.7284e-02,  1.6428e-02,\n",
      "         -6.0192e-02,  5.8604e-02, -1.1557e-02, -1.9878e-02, -2.6707e-03,\n",
      "          1.9353e-02, -1.3602e-02, -6.6821e-02,  1.0992e-02, -2.8935e-02,\n",
      "         -3.7329e-02,  2.8726e-03, -5.7769e-02, -1.8685e-02,  2.0297e-02,\n",
      "         -5.7040e-03,  6.7258e-02, -4.7610e-02, -2.5857e-02,  4.9398e-03,\n",
      "         -3.2828e-02, -6.8086e-02,  2.1409e-02, -2.1545e-02, -3.5644e-02,\n",
      "          4.6041e-02, -3.4067e-03,  6.9771e-02, -1.1365e-02, -1.7955e-02,\n",
      "          2.7973e-03,  6.4525e-03, -3.3434e-02, -1.6172e-02, -6.8171e-02,\n",
      "         -7.9615e-02,  4.3249e-02,  2.4993e-02, -3.6740e-02, -8.6647e-03,\n",
      "          2.2930e-02,  3.3928e-02, -3.0340e-02,  2.2015e-03,  8.7671e-02,\n",
      "          3.0670e-02, -4.4075e-03, -4.1173e-02,  4.8131e-02, -1.0154e-02,\n",
      "         -8.9868e-02,  1.9678e-02, -5.2533e-02, -2.6678e-02, -2.6132e-03,\n",
      "          7.1074e-02, -4.4540e-02, -2.2216e-02, -4.6983e-02,  3.1796e-02,\n",
      "         -3.2493e-02,  9.6763e-02,  4.1190e-02,  1.8684e-02, -9.6635e-02,\n",
      "          2.5636e-02,  4.4845e-02, -4.9891e-02,  1.9127e-02,  1.0050e-02,\n",
      "         -4.7435e-02,  6.0316e-02,  7.0633e-02,  6.0630e-02,  5.6507e-03,\n",
      "         -8.6792e-03,  1.9561e-02,  7.9242e-02,  1.1672e-01,  1.6923e-03,\n",
      "         -2.4144e-03, -3.9412e-02, -1.8012e-02,  5.7367e-02,  1.3734e-03,\n",
      "          2.0046e-03, -1.8412e-02, -5.9528e-03,  3.4347e-02,  6.6356e-02,\n",
      "         -3.6791e-02,  8.6000e-03,  3.7692e-03, -2.1693e-03, -4.4454e-02,\n",
      "         -4.7241e-03, -2.9017e-02, -6.6833e-02,  3.5422e-02,  1.7563e-02,\n",
      "          8.5672e-02,  7.4401e-03, -5.0890e-02,  2.2308e-02,  5.1931e-02,\n",
      "          1.4499e-02, -1.0589e-02, -5.3334e-02,  8.4674e-04, -7.1737e-02,\n",
      "          9.2801e-03, -1.5844e-02,  1.2339e-02,  5.2542e-02, -1.8161e-02,\n",
      "          4.5218e-02,  1.3610e-02,  6.6142e-03, -6.9405e-02,  2.0840e-02,\n",
      "         -3.9688e-02, -1.9696e-02, -3.5984e-02,  1.3502e-03, -5.4372e-02,\n",
      "         -4.2802e-02,  1.4551e-02, -1.3276e-02,  1.9846e-02, -4.1751e-03,\n",
      "          7.3406e-02, -1.9286e-02,  3.2983e-02,  6.3184e-02, -4.0011e-02,\n",
      "         -2.4434e-02,  6.1738e-03, -3.8552e-02, -6.2022e-02, -2.6764e-02,\n",
      "         -1.0935e-01,  5.5763e-02, -5.3412e-02, -1.3383e-02,  2.5429e-03,\n",
      "          2.3893e-02,  7.2018e-02,  5.2571e-02, -1.1768e-02, -9.9607e-02,\n",
      "         -7.6595e-02,  5.3532e-02, -1.1965e-02, -7.4699e-04,  3.0426e-02,\n",
      "          6.3853e-02, -9.7996e-03, -6.3418e-02,  2.5546e-02, -4.5708e-02,\n",
      "          6.3007e-03, -8.4683e-02,  1.1250e-02,  1.3003e-02, -7.1465e-03,\n",
      "          2.0530e-02, -6.5013e-04, -1.1791e-02,  1.9417e-03, -7.4573e-03,\n",
      "         -8.1799e-02, -2.8822e-02, -4.0124e-02, -4.9553e-02, -2.7877e-02,\n",
      "          1.9390e-04,  1.0974e-02, -1.7792e-02,  3.3435e-02, -8.7247e-02,\n",
      "         -1.4146e-01,  3.2155e-02,  4.7325e-02, -9.0241e-03,  2.5045e-02,\n",
      "         -3.4049e-03,  3.8888e-02,  2.1786e-02, -4.1572e-02, -4.0561e-02,\n",
      "         -7.2723e-02, -1.0701e-02, -3.7977e-02,  2.6197e-02,  1.1825e-02,\n",
      "         -1.7795e-02, -1.9222e-03, -3.6086e-03,  2.4413e-02, -2.8028e-02,\n",
      "          2.0138e-02, -5.3636e-02,  4.2109e-02, -3.1696e-02,  2.1856e-02,\n",
      "          8.4779e-02, -4.0938e-02,  5.0201e-03, -8.1611e-02,  3.0559e-02,\n",
      "          3.3151e-03,  1.1787e-02,  2.3608e-02,  1.6387e-02, -9.8409e-02,\n",
      "          3.8073e-02,  2.6946e-02, -3.2326e-03, -3.7268e-02, -2.2288e-02,\n",
      "          5.6229e-02,  1.3131e-02,  5.4570e-02, -1.9773e-02, -6.4354e-02,\n",
      "          7.3573e-03,  6.7344e-02, -4.8105e-03, -3.1824e-02,  4.3322e-02,\n",
      "         -5.0100e-02,  3.7579e-02, -7.6349e-02, -4.5576e-03, -8.6454e-02,\n",
      "          4.6343e-02,  3.6744e-02, -1.6947e-03, -6.0970e-02,  2.4642e-02,\n",
      "          9.9527e-03, -1.0167e-01, -3.5428e-03,  1.9743e-02,  1.2670e-02,\n",
      "         -1.1163e-01,  4.7295e-02,  1.7336e-02,  1.5561e-02,  6.7738e-02,\n",
      "         -4.1491e-02, -4.4033e-02, -4.9181e-02,  7.1887e-03, -1.1101e-02,\n",
      "          2.7258e-02, -2.7184e-02]])\n"
     ]
    }
   ]
  },
  {
   "cell_type": "code",
   "source": [
    "import pandas as pd\n",
    "import numpy as np"
   ],
   "metadata": {
    "id": "4_biKNtWtHPK"
   },
   "execution_count": 7,
   "outputs": []
  },
  {
   "cell_type": "code",
   "source": [
    "\n",
    "\n",
    "df = pd.read_csv('face_embeddings.csv', on_bad_lines='skip')  # skips bad rows\n"
   ],
   "metadata": {
    "id": "2XNvmFRqtJro"
   },
   "execution_count": 9,
   "outputs": []
  },
  {
   "cell_type": "code",
   "source": [
    "import torch\n",
    "import ast\n",
    "\n",
    "# Convert embedding strings to PyTorch tensors\n",
    "df['embedding_tensor'] = df['embedding'].apply(lambda x: torch.tensor(ast.literal_eval(x)))\n"
   ],
   "metadata": {
    "id": "Mqp3zk5ntMUR"
   },
   "execution_count": 10,
   "outputs": []
  },
  {
   "cell_type": "code",
   "source": [
    "# Suppose this is your new embedding from InceptionResnetV1\n",
    "new_embedding = embedding.squeeze()  # shape [512]\n"
   ],
   "metadata": {
    "id": "STasim0atccq"
   },
   "execution_count": 21,
   "outputs": []
  },
  {
   "cell_type": "code",
   "source": [
    "# Compute distance to each embedding\n",
    "df['distance'] = df['embedding_tensor'].apply(lambda x: torch.norm(x - new_embedding))\n",
    "similar_face = df.loc[df['distance'].idxmin()]\n",
    "print(\"Most similar face (Euclidean):\", similar_face['face_id'])\n"
   ],
   "metadata": {
    "colab": {
     "base_uri": "https://localhost:8080/"
    },
    "id": "pvgsUhWStg15",
    "outputId": "3afff1c8-409c-46ff-f65d-d5c5fc3c27c8"
   },
   "execution_count": 22,
   "outputs": [
    {
     "output_type": "stream",
     "name": "stdout",
     "text": [
      "Most similar face (Euclidean): F100666.jpg\n"
     ]
    }
   ]
  },
  {
   "cell_type": "code",
   "source": [],
   "metadata": {
    "id": "1xWLdxAgtmh1"
   },
   "execution_count": null,
   "outputs": []
  }
 ]
}
